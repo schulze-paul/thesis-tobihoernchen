{
 "cells": [
  {
   "cell_type": "code",
   "execution_count": 1,
   "metadata": {},
   "outputs": [],
   "source": [
    "from alpyne.client.alpyne_client import AlpyneClient\n",
    "import numpy as np\n",
    "import random\n",
    "import time\n",
    "from IPython.display import clear_output"
   ]
  },
  {
   "cell_type": "code",
   "execution_count": 2,
   "metadata": {},
   "outputs": [],
   "source": [
    "sys.path.append(\"../..\")\n",
    "from thesis.q_learning.q_table import QTable\n",
    "        "
   ]
  },
  {
   "cell_type": "code",
   "execution_count": 3,
   "metadata": {},
   "outputs": [
    {
     "name": "stderr",
     "output_type": "stream",
     "text": [
      "C:\\Users\\Wegma\\.conda\\envs\\thesis\\lib\\site-packages\\alpyne\\client\\utils.py:124: UserWarning: Unzipping to temporary directory (C:\\Users\\Wegma\\AppData\\Local\\Temp\\alpyne_70899_wm862gh9)\n",
      "  warn(f\"Unzipping to temporary directory ({tmp_dir})\")\n"
     ]
    }
   ],
   "source": [
    "client = AlpyneClient(\"../../models\\AGV_SlipCourse Exported\\AGV_SlipCourse.zip\", blocking = True, port = 51151)"
   ]
  },
  {
   "cell_type": "code",
   "execution_count": 4,
   "metadata": {},
   "outputs": [],
   "source": [
    "config = client.configuration_template\n",
    "config.inSlipChance = 0.3\n",
    "run = client.create_reinforcement_learning(config)"
   ]
  },
  {
   "cell_type": "code",
   "execution_count": 5,
   "metadata": {},
   "outputs": [],
   "source": [
    "run = run.run()"
   ]
  },
  {
   "cell_type": "code",
   "execution_count": 6,
   "metadata": {},
   "outputs": [],
   "source": [
    "num_episodes = 1000\n",
    "max_steps_per_episode = 100\n",
    "\n",
    "learning_rate = 0.1     #Alpha\n",
    "discount_rate = 0.99    #Gamma\n",
    "\n",
    "exploration_rate = 1\n",
    "max_exploration_rate = 1\n",
    "min_exploration_rate = 0.01\n",
    "exploration_decay_rate = 0.001\n",
    "n_actions = 4"
   ]
  },
  {
   "cell_type": "code",
   "execution_count": 7,
   "metadata": {},
   "outputs": [],
   "source": [
    "q_table = QTable(n_actions)"
   ]
  },
  {
   "cell_type": "code",
   "execution_count": 8,
   "metadata": {},
   "outputs": [],
   "source": [
    "rewards_all_episodes = []"
   ]
  },
  {
   "cell_type": "code",
   "execution_count": 10,
   "metadata": {},
   "outputs": [
    {
     "name": "stdout",
     "output_type": "stream",
     "text": [
      "1\n",
      "11\n",
      "21\n",
      "31\n",
      "41\n",
      "51\n",
      "61\n",
      "71\n",
      "81\n",
      "91\n",
      "101\n",
      "111\n",
      "121\n",
      "131\n",
      "141\n",
      "151\n",
      "161\n",
      "171\n",
      "181\n",
      "191\n",
      "201\n",
      "211\n",
      "221\n",
      "231\n",
      "241\n",
      "251\n",
      "261\n",
      "271\n",
      "281\n",
      "291\n",
      "301\n",
      "311\n",
      "321\n",
      "331\n",
      "341\n",
      "351\n",
      "361\n",
      "371\n",
      "381\n",
      "391\n",
      "401\n",
      "411\n",
      "421\n",
      "431\n",
      "441\n",
      "451\n",
      "461\n",
      "471\n",
      "481\n",
      "491\n",
      "501\n",
      "511\n",
      "521\n",
      "531\n",
      "541\n",
      "551\n",
      "561\n",
      "571\n",
      "581\n",
      "591\n",
      "601\n",
      "611\n",
      "621\n",
      "631\n",
      "641\n",
      "651\n",
      "661\n",
      "671\n",
      "681\n",
      "691\n",
      "701\n",
      "711\n",
      "721\n",
      "731\n",
      "741\n",
      "751\n",
      "761\n",
      "771\n",
      "781\n",
      "791\n",
      "801\n",
      "811\n",
      "821\n",
      "831\n",
      "841\n",
      "851\n",
      "861\n",
      "871\n",
      "881\n",
      "891\n",
      "901\n",
      "911\n",
      "921\n",
      "931\n",
      "941\n",
      "951\n",
      "961\n",
      "971\n",
      "981\n",
      "991\n",
      "*******Average reward per thousand episodes*******\n",
      "\n",
      "1000 :  -0.7420000000000005\n",
      "\n",
      "\n",
      "*******Q-table*******\n",
      "\n",
      "[[0. 0. 0. 0.]\n",
      " [0. 0. 0. 0.]\n",
      " [0. 0. 0. 0.]\n",
      " ...\n",
      " [0. 0. 0. 0.]\n",
      " [0. 0. 0. 0.]\n",
      " [0. 0. 0. 0.]]\n"
     ]
    }
   ],
   "source": [
    "# Q-learning algorithm\n",
    "for episode in range(num_episodes):\n",
    "    if episode % 10 == 1:\n",
    "        print(episode)\n",
    "    run.reset()\n",
    "    run.wait_for_completion()\n",
    "    state, _ = run.get_observation().values()\n",
    "    \n",
    "    done = False\n",
    "    rewards_current_episode = 0\n",
    "\n",
    "    for step in range(max_steps_per_episode): \n",
    "        # Exploration-exploitation trade-off\n",
    "        action = client.action_template\n",
    "        exploration_rate_threshold = random.uniform(0,1)\n",
    "        if exploration_rate_threshold > exploration_rate:\n",
    "            action.inAction = np.argmax(q_table[state,:])\n",
    "        else:\n",
    "            action.inAction = random.randint(0,n_actions-1)\n",
    "            \n",
    "        run.take_action(action)\n",
    "        run.wait_for_completion()\n",
    "        done = run.is_terminal()\n",
    "        new_state, reward = run.get_observation().values()\n",
    "        \n",
    "        # Update Q-table\n",
    "        q_table[state, action.inAction] = q_table[state, action.inAction] * (1-learning_rate) + \\\n",
    "            learning_rate * (reward + discount_rate * np.max(q_table[new_state, :]))\n",
    "        \n",
    "        state = new_state\n",
    "        rewards_current_episode += reward\n",
    "        \n",
    "        if done == True:\n",
    "            break        \n",
    "\n",
    "    # Exploration rate decay   \n",
    "    exploration_rate = min_exploration_rate + \\\n",
    "        (max_exploration_rate - min_exploration_rate) * np.exp(-exploration_decay_rate * episode)\n",
    "        \n",
    "    # Add current episode reward to total rewards list\n",
    "    rewards_all_episodes.append(rewards_current_episode)\n",
    "    \n",
    "rewards_per_thousand_episodes = np.split(np.array(rewards_all_episodes), len(rewards_all_episodes)/1000)\n",
    "count = 1000\n",
    "print(\"*******Average reward per thousand episodes*******\\n\")\n",
    "for r in rewards_per_thousand_episodes:\n",
    "    print(count, \": \", str(sum(r/1000)))\n",
    "    count += 1000\n",
    "    \n",
    "print(\"\\n\\n*******Q-table*******\\n\")\n",
    "print(q_table)"
   ]
  },
  {
   "cell_type": "markdown",
   "metadata": {},
   "source": [
    "# Old"
   ]
  },
  {
   "cell_type": "code",
   "execution_count": 7,
   "metadata": {},
   "outputs": [],
   "source": [
    "obs_hist = []"
   ]
  },
  {
   "cell_type": "code",
   "execution_count": 8,
   "metadata": {},
   "outputs": [
    {
     "data": {
      "text/plain": [
       "[[[1.0, 0.0, 1.0, 0.0, 0.0, 0.0, 0.0, 0.0, 0.0, 0.0, 0.0, 1.0], 0]]"
      ]
     },
     "execution_count": 8,
     "metadata": {},
     "output_type": "execute_result"
    }
   ],
   "source": [
    "obs = run.get_observation()\n",
    "obs_hist.append(obs.values())\n",
    "obs_hist"
   ]
  },
  {
   "cell_type": "code",
   "execution_count": 11,
   "metadata": {},
   "outputs": [
    {
     "ename": "ModelError",
     "evalue": "ModelError[path=http://127.0.0.1:51151/runs/1/rl, status=400, error=Bad Request, msg=('{\"Exception message\":\"Platform not in correct stage: (FINISH, '\n 'true)\",\"Platform '\n 'state\":{\"message\":\"{\\\\\"reason\\\\\":\\\\\"MODEL_METHOD\\\\\",\\\\\"next_event_time\\\\\":125.0,\\\\\"episode_count\\\\\":1,\\\\\"step_count\\\\\":126,\\\\\"model_time\\\\\":124.0}\",\"status\":\"COMPLETED\"}}')]",
     "output_type": "error",
     "traceback": [
      "\u001b[1;31m---------------------------------------------------------------------------\u001b[0m",
      "\u001b[1;31mHTTPError\u001b[0m                                 Traceback (most recent call last)",
      "File \u001b[1;32m~\\.conda\\envs\\thesis\\lib\\site-packages\\alpyne\\client\\http_client.py:43\u001b[0m, in \u001b[0;36mHttpClient.api_request\u001b[1;34m(self, url, method, body)\u001b[0m\n\u001b[0;32m     <a href='file:///c%3A/Users/Wegma/.conda/envs/thesis/lib/site-packages/alpyne/client/http_client.py?line=41'>42</a>\u001b[0m request\u001b[39m.\u001b[39madd_header(\u001b[39m\"\u001b[39m\u001b[39mContent-Type\u001b[39m\u001b[39m\"\u001b[39m, \u001b[39m\"\u001b[39m\u001b[39mapplication/json\u001b[39m\u001b[39m\"\u001b[39m)\n\u001b[1;32m---> <a href='file:///c%3A/Users/Wegma/.conda/envs/thesis/lib/site-packages/alpyne/client/http_client.py?line=42'>43</a>\u001b[0m response \u001b[39m=\u001b[39m urllib\u001b[39m.\u001b[39;49mrequest\u001b[39m.\u001b[39;49murlopen(request, timeout\u001b[39m=\u001b[39;49m\u001b[39m3\u001b[39;49m)\n\u001b[0;32m     <a href='file:///c%3A/Users/Wegma/.conda/envs/thesis/lib/site-packages/alpyne/client/http_client.py?line=43'>44</a>\u001b[0m \u001b[39mif\u001b[39;00m response\u001b[39m.\u001b[39mgetcode() \u001b[39m>\u001b[39m\u001b[39m=\u001b[39m \u001b[39m400\u001b[39m:  \u001b[39m# TODO model errors should warn user and mark episode as halted\u001b[39;00m\n",
      "File \u001b[1;32m~\\.conda\\envs\\thesis\\lib\\urllib\\request.py:222\u001b[0m, in \u001b[0;36murlopen\u001b[1;34m(url, data, timeout, cafile, capath, cadefault, context)\u001b[0m\n\u001b[0;32m    <a href='file:///c%3A/Users/Wegma/.conda/envs/thesis/lib/urllib/request.py?line=220'>221</a>\u001b[0m     opener \u001b[39m=\u001b[39m _opener\n\u001b[1;32m--> <a href='file:///c%3A/Users/Wegma/.conda/envs/thesis/lib/urllib/request.py?line=221'>222</a>\u001b[0m \u001b[39mreturn\u001b[39;00m opener\u001b[39m.\u001b[39;49mopen(url, data, timeout)\n",
      "File \u001b[1;32m~\\.conda\\envs\\thesis\\lib\\urllib\\request.py:531\u001b[0m, in \u001b[0;36mOpenerDirector.open\u001b[1;34m(self, fullurl, data, timeout)\u001b[0m\n\u001b[0;32m    <a href='file:///c%3A/Users/Wegma/.conda/envs/thesis/lib/urllib/request.py?line=529'>530</a>\u001b[0m     meth \u001b[39m=\u001b[39m \u001b[39mgetattr\u001b[39m(processor, meth_name)\n\u001b[1;32m--> <a href='file:///c%3A/Users/Wegma/.conda/envs/thesis/lib/urllib/request.py?line=530'>531</a>\u001b[0m     response \u001b[39m=\u001b[39m meth(req, response)\n\u001b[0;32m    <a href='file:///c%3A/Users/Wegma/.conda/envs/thesis/lib/urllib/request.py?line=532'>533</a>\u001b[0m \u001b[39mreturn\u001b[39;00m response\n",
      "File \u001b[1;32m~\\.conda\\envs\\thesis\\lib\\urllib\\request.py:640\u001b[0m, in \u001b[0;36mHTTPErrorProcessor.http_response\u001b[1;34m(self, request, response)\u001b[0m\n\u001b[0;32m    <a href='file:///c%3A/Users/Wegma/.conda/envs/thesis/lib/urllib/request.py?line=638'>639</a>\u001b[0m \u001b[39mif\u001b[39;00m \u001b[39mnot\u001b[39;00m (\u001b[39m200\u001b[39m \u001b[39m<\u001b[39m\u001b[39m=\u001b[39m code \u001b[39m<\u001b[39m \u001b[39m300\u001b[39m):\n\u001b[1;32m--> <a href='file:///c%3A/Users/Wegma/.conda/envs/thesis/lib/urllib/request.py?line=639'>640</a>\u001b[0m     response \u001b[39m=\u001b[39m \u001b[39mself\u001b[39;49m\u001b[39m.\u001b[39;49mparent\u001b[39m.\u001b[39;49merror(\n\u001b[0;32m    <a href='file:///c%3A/Users/Wegma/.conda/envs/thesis/lib/urllib/request.py?line=640'>641</a>\u001b[0m         \u001b[39m'\u001b[39;49m\u001b[39mhttp\u001b[39;49m\u001b[39m'\u001b[39;49m, request, response, code, msg, hdrs)\n\u001b[0;32m    <a href='file:///c%3A/Users/Wegma/.conda/envs/thesis/lib/urllib/request.py?line=642'>643</a>\u001b[0m \u001b[39mreturn\u001b[39;00m response\n",
      "File \u001b[1;32m~\\.conda\\envs\\thesis\\lib\\urllib\\request.py:569\u001b[0m, in \u001b[0;36mOpenerDirector.error\u001b[1;34m(self, proto, *args)\u001b[0m\n\u001b[0;32m    <a href='file:///c%3A/Users/Wegma/.conda/envs/thesis/lib/urllib/request.py?line=567'>568</a>\u001b[0m args \u001b[39m=\u001b[39m (\u001b[39mdict\u001b[39m, \u001b[39m'\u001b[39m\u001b[39mdefault\u001b[39m\u001b[39m'\u001b[39m, \u001b[39m'\u001b[39m\u001b[39mhttp_error_default\u001b[39m\u001b[39m'\u001b[39m) \u001b[39m+\u001b[39m orig_args\n\u001b[1;32m--> <a href='file:///c%3A/Users/Wegma/.conda/envs/thesis/lib/urllib/request.py?line=568'>569</a>\u001b[0m \u001b[39mreturn\u001b[39;00m \u001b[39mself\u001b[39;49m\u001b[39m.\u001b[39;49m_call_chain(\u001b[39m*\u001b[39;49margs)\n",
      "File \u001b[1;32m~\\.conda\\envs\\thesis\\lib\\urllib\\request.py:502\u001b[0m, in \u001b[0;36mOpenerDirector._call_chain\u001b[1;34m(self, chain, kind, meth_name, *args)\u001b[0m\n\u001b[0;32m    <a href='file:///c%3A/Users/Wegma/.conda/envs/thesis/lib/urllib/request.py?line=500'>501</a>\u001b[0m func \u001b[39m=\u001b[39m \u001b[39mgetattr\u001b[39m(handler, meth_name)\n\u001b[1;32m--> <a href='file:///c%3A/Users/Wegma/.conda/envs/thesis/lib/urllib/request.py?line=501'>502</a>\u001b[0m result \u001b[39m=\u001b[39m func(\u001b[39m*\u001b[39;49margs)\n\u001b[0;32m    <a href='file:///c%3A/Users/Wegma/.conda/envs/thesis/lib/urllib/request.py?line=502'>503</a>\u001b[0m \u001b[39mif\u001b[39;00m result \u001b[39mis\u001b[39;00m \u001b[39mnot\u001b[39;00m \u001b[39mNone\u001b[39;00m:\n",
      "File \u001b[1;32m~\\.conda\\envs\\thesis\\lib\\urllib\\request.py:649\u001b[0m, in \u001b[0;36mHTTPDefaultErrorHandler.http_error_default\u001b[1;34m(self, req, fp, code, msg, hdrs)\u001b[0m\n\u001b[0;32m    <a href='file:///c%3A/Users/Wegma/.conda/envs/thesis/lib/urllib/request.py?line=647'>648</a>\u001b[0m \u001b[39mdef\u001b[39;00m \u001b[39mhttp_error_default\u001b[39m(\u001b[39mself\u001b[39m, req, fp, code, msg, hdrs):\n\u001b[1;32m--> <a href='file:///c%3A/Users/Wegma/.conda/envs/thesis/lib/urllib/request.py?line=648'>649</a>\u001b[0m     \u001b[39mraise\u001b[39;00m HTTPError(req\u001b[39m.\u001b[39mfull_url, code, msg, hdrs, fp)\n",
      "\u001b[1;31mHTTPError\u001b[0m: HTTP Error 400: Bad Request",
      "\nDuring handling of the above exception, another exception occurred:\n",
      "\u001b[1;31mModelError\u001b[0m                                Traceback (most recent call last)",
      "\u001b[1;32md:\\Master\\Masterarbeit\\thesis\\exploration\\basics_re\\agv_slipcourse.ipynb Cell 13'\u001b[0m in \u001b[0;36m<cell line: 3>\u001b[1;34m()\u001b[0m\n\u001b[0;32m      <a href='vscode-notebook-cell:/d%3A/Master/Masterarbeit/thesis/exploration/basics_re/agv_slipcourse.ipynb#ch0000006?line=0'>1</a>\u001b[0m action \u001b[39m=\u001b[39m client\u001b[39m.\u001b[39maction_template\n\u001b[0;32m      <a href='vscode-notebook-cell:/d%3A/Master/Masterarbeit/thesis/exploration/basics_re/agv_slipcourse.ipynb#ch0000006?line=1'>2</a>\u001b[0m action\u001b[39m.\u001b[39minAction \u001b[39m=\u001b[39m \u001b[39m1\u001b[39m \u001b[39m#0-forward, 1-back, 2-wait, 3-toggle\u001b[39;00m\n\u001b[1;32m----> <a href='vscode-notebook-cell:/d%3A/Master/Masterarbeit/thesis/exploration/basics_re/agv_slipcourse.ipynb#ch0000006?line=2'>3</a>\u001b[0m run\u001b[39m.\u001b[39;49mtake_action(action)\n",
      "File \u001b[1;32m~\\.conda\\envs\\thesis\\lib\\site-packages\\alpyne\\client\\model_run.py:171\u001b[0m, in \u001b[0;36mModelRun.take_action\u001b[1;34m(self, action)\u001b[0m\n\u001b[0;32m    <a href='file:///c%3A/Users/Wegma/.conda/envs/thesis/lib/site-packages/alpyne/client/model_run.py?line=168'>169</a>\u001b[0m endpoint \u001b[39m=\u001b[39m \u001b[39mf\u001b[39m\u001b[39m\"\u001b[39m\u001b[39m/runs/\u001b[39m\u001b[39m{\u001b[39;00m\u001b[39mself\u001b[39m\u001b[39m.\u001b[39mid\u001b[39m}\u001b[39;00m\u001b[39m/rl\u001b[39m\u001b[39m\"\u001b[39m\n\u001b[0;32m    <a href='file:///c%3A/Users/Wegma/.conda/envs/thesis/lib/site-packages/alpyne/client/model_run.py?line=169'>170</a>\u001b[0m body \u001b[39m=\u001b[39m {\u001b[39m\"\u001b[39m\u001b[39mcommand\u001b[39m\u001b[39m\"\u001b[39m: RLCommand\u001b[39m.\u001b[39mACTION\u001b[39m.\u001b[39mvalue, \u001b[39m\"\u001b[39m\u001b[39margument\u001b[39m\u001b[39m\"\u001b[39m: action}\n\u001b[1;32m--> <a href='file:///c%3A/Users/Wegma/.conda/envs/thesis/lib/site-packages/alpyne/client/model_run.py?line=170'>171</a>\u001b[0m _ \u001b[39m=\u001b[39m \u001b[39mself\u001b[39;49m\u001b[39m.\u001b[39;49mhttp_client\u001b[39m.\u001b[39;49mpost(endpoint, body)\n\u001b[0;32m    <a href='file:///c%3A/Users/Wegma/.conda/envs/thesis/lib/site-packages/alpyne/client/model_run.py?line=171'>172</a>\u001b[0m \u001b[39mif\u001b[39;00m \u001b[39mself\u001b[39m\u001b[39m.\u001b[39mblocking:\n\u001b[0;32m    <a href='file:///c%3A/Users/Wegma/.conda/envs/thesis/lib/site-packages/alpyne/client/model_run.py?line=172'>173</a>\u001b[0m     \u001b[39mreturn\u001b[39;00m \u001b[39mself\u001b[39m\u001b[39m.\u001b[39mwait_for_completion()\n",
      "File \u001b[1;32m~\\.conda\\envs\\thesis\\lib\\site-packages\\alpyne\\client\\http_client.py:72\u001b[0m, in \u001b[0;36mHttpClient.post\u001b[1;34m(self, url, body)\u001b[0m\n\u001b[0;32m     <a href='file:///c%3A/Users/Wegma/.conda/envs/thesis/lib/site-packages/alpyne/client/http_client.py?line=70'>71</a>\u001b[0m \u001b[39mdef\u001b[39;00m \u001b[39mpost\u001b[39m(\u001b[39mself\u001b[39m, url: \u001b[39mstr\u001b[39m, body: Any\u001b[39m=\u001b[39m\u001b[39mNone\u001b[39;00m) \u001b[39m-\u001b[39m\u001b[39m>\u001b[39m RequestResponse:\n\u001b[1;32m---> <a href='file:///c%3A/Users/Wegma/.conda/envs/thesis/lib/site-packages/alpyne/client/http_client.py?line=71'>72</a>\u001b[0m     \u001b[39mreturn\u001b[39;00m \u001b[39mself\u001b[39;49m\u001b[39m.\u001b[39;49mapi_request(url, method\u001b[39m=\u001b[39;49m\u001b[39m\"\u001b[39;49m\u001b[39mPOST\u001b[39;49m\u001b[39m\"\u001b[39;49m, body\u001b[39m=\u001b[39;49mbody)\n",
      "File \u001b[1;32m~\\.conda\\envs\\thesis\\lib\\site-packages\\alpyne\\client\\http_client.py:53\u001b[0m, in \u001b[0;36mHttpClient.api_request\u001b[1;34m(self, url, method, body)\u001b[0m\n\u001b[0;32m     <a href='file:///c%3A/Users/Wegma/.conda/envs/thesis/lib/site-packages/alpyne/client/http_client.py?line=49'>50</a>\u001b[0m         sleep(\u001b[39m0.1\u001b[39m)\n\u001b[0;32m     <a href='file:///c%3A/Users/Wegma/.conda/envs/thesis/lib/site-packages/alpyne/client/http_client.py?line=50'>51</a>\u001b[0m     \u001b[39melse\u001b[39;00m:\n\u001b[0;32m     <a href='file:///c%3A/Users/Wegma/.conda/envs/thesis/lib/site-packages/alpyne/client/http_client.py?line=51'>52</a>\u001b[0m         \u001b[39m# Can either be handled from alpyne or the underlying server\u001b[39;00m\n\u001b[1;32m---> <a href='file:///c%3A/Users/Wegma/.conda/envs/thesis/lib/site-packages/alpyne/client/http_client.py?line=52'>53</a>\u001b[0m         \u001b[39mraise\u001b[39;00m ModelError(err\u001b[39m.\u001b[39mcode, err\u001b[39m.\u001b[39mreason, err\u001b[39m.\u001b[39mread(), url_path)\n\u001b[0;32m     <a href='file:///c%3A/Users/Wegma/.conda/envs/thesis/lib/site-packages/alpyne/client/http_client.py?line=53'>54</a>\u001b[0m \u001b[39mexcept\u001b[39;00m HTTPError \u001b[39mas\u001b[39;00m err:\n\u001b[0;32m     <a href='file:///c%3A/Users/Wegma/.conda/envs/thesis/lib/site-packages/alpyne/client/http_client.py?line=54'>55</a>\u001b[0m     \u001b[39mraise\u001b[39;00m ModelError(err\u001b[39m.\u001b[39mcode, err\u001b[39m.\u001b[39mreason, err\u001b[39m.\u001b[39mread(), url_path)\n",
      "\u001b[1;31mModelError\u001b[0m: ModelError[path=http://127.0.0.1:51151/runs/1/rl, status=400, error=Bad Request, msg=('{\"Exception message\":\"Platform not in correct stage: (FINISH, '\n 'true)\",\"Platform '\n 'state\":{\"message\":\"{\\\\\"reason\\\\\":\\\\\"MODEL_METHOD\\\\\",\\\\\"next_event_time\\\\\":125.0,\\\\\"episode_count\\\\\":1,\\\\\"step_count\\\\\":126,\\\\\"model_time\\\\\":124.0}\",\"status\":\"COMPLETED\"}}')]"
     ]
    }
   ],
   "source": [
    "action = client.action_template\n",
    "action.inAction = 1 #0-forward, 1-back, 2-wait, 3-toggle\n",
    "run.take_action(action)"
   ]
  },
  {
   "cell_type": "code",
   "execution_count": 87,
   "metadata": {},
   "outputs": [
    {
     "data": {
      "text/plain": [
       "<alpyne.client.model_run.ModelRun at 0x197779fb400>"
      ]
     },
     "execution_count": 87,
     "metadata": {},
     "output_type": "execute_result"
    }
   ],
   "source": [
    "run.reset()"
   ]
  },
  {
   "cell_type": "code",
   "execution_count": 88,
   "metadata": {},
   "outputs": [
    {
     "data": {
      "text/plain": [
       "False"
      ]
     },
     "execution_count": 88,
     "metadata": {},
     "output_type": "execute_result"
    }
   ],
   "source": [
    "run.is_terminal()"
   ]
  },
  {
   "cell_type": "code",
   "execution_count": 89,
   "metadata": {},
   "outputs": [
    {
     "data": {
      "text/plain": [
       "(<RunStatus.PAUSED: 'PAUSED'>,\n",
       " {'reason': None,\n",
       "  'next_event_time': 1.0,\n",
       "  'episode_count': 2,\n",
       "  'step_count': 1,\n",
       "  'model_time': 0.0})"
      ]
     },
     "execution_count": 89,
     "metadata": {},
     "output_type": "execute_result"
    }
   ],
   "source": [
    "run.get_state()"
   ]
  }
 ],
 "metadata": {
  "interpreter": {
   "hash": "42330db9e7c84511327a9aafae55af40b0070f1b76a811f5ea8231885452c2cb"
  },
  "kernelspec": {
   "display_name": "Python 3.10.4 ('thesis')",
   "language": "python",
   "name": "python3"
  },
  "language_info": {
   "codemirror_mode": {
    "name": "ipython",
    "version": 3
   },
   "file_extension": ".py",
   "mimetype": "text/x-python",
   "name": "python",
   "nbconvert_exporter": "python",
   "pygments_lexer": "ipython3",
   "version": "3.8.13"
  },
  "orig_nbformat": 4
 },
 "nbformat": 4,
 "nbformat_minor": 2
}
