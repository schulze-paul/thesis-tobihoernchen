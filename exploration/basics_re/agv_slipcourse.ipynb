{
 "cells": [
  {
   "cell_type": "code",
   "execution_count": 1,
   "metadata": {},
   "outputs": [],
   "source": [
    "from alpyne.client.alpyne_client import AlpyneClient"
   ]
  },
  {
   "cell_type": "code",
   "execution_count": 2,
   "metadata": {},
   "outputs": [
    {
     "name": "stderr",
     "output_type": "stream",
     "text": [
      "C:\\Users\\Wegma\\.conda\\envs\\thesis\\lib\\site-packages\\alpyne\\client\\utils.py:124: UserWarning: Unzipping to temporary directory (C:\\Users\\Wegma\\AppData\\Local\\Temp\\alpyne_70631_zi7xth53)\n",
      "  warn(f\"Unzipping to temporary directory ({tmp_dir})\")\n"
     ]
    }
   ],
   "source": [
    "client = AlpyneClient(\"../../models\\AGV_SlipCourse_Exported\\AGV_SlipCourse.zip\", blocking = True)\n",
    "#Has to be executed in DEBUG and needs breakpoint in alpyne_client:49, then iterated with F11\n",
    "#WHYEVER"
   ]
  },
  {
   "cell_type": "code",
   "execution_count": 10,
   "metadata": {},
   "outputs": [],
   "source": [
    "config = client.configuration_template\n",
    "config.inSlipChance = 0.3\n",
    "run = client.create_reinforcement_learning(config)"
   ]
  },
  {
   "cell_type": "code",
   "execution_count": 13,
   "metadata": {},
   "outputs": [],
   "source": [
    "run = run.run()"
   ]
  },
  {
   "cell_type": "code",
   "execution_count": 5,
   "metadata": {},
   "outputs": [],
   "source": [
    "obs = run.get_observation()"
   ]
  },
  {
   "cell_type": "code",
   "execution_count": 6,
   "metadata": {},
   "outputs": [
    {
     "data": {
      "text/plain": [
       "[[1.0, 0.0, 1.0, 0.0, 0.0, 0.0, 0.0, 0.0, 0.0, 0.0, 0.0, 1.0]]"
      ]
     },
     "execution_count": 6,
     "metadata": {},
     "output_type": "execute_result"
    }
   ],
   "source": [
    "obs.values()"
   ]
  },
  {
   "cell_type": "code",
   "execution_count": 7,
   "metadata": {},
   "outputs": [
    {
     "ename": "TypeError",
     "evalue": "set_input() missing 1 required positional argument: 'value'",
     "output_type": "error",
     "traceback": [
      "\u001b[1;31m---------------------------------------------------------------------------\u001b[0m",
      "\u001b[1;31mTypeError\u001b[0m                                 Traceback (most recent call last)",
      "\u001b[1;32md:\\Master\\Masterarbeit\\thesis\\exploration\\basics_re\\agv_slipcourse.ipynb Cell 7'\u001b[0m in \u001b[0;36m<cell line: 1>\u001b[1;34m()\u001b[0m\n\u001b[1;32m----> <a href='vscode-notebook-cell:/d%3A/Master/Masterarbeit/thesis/exploration/basics_re/agv_slipcourse.ipynb#ch0000006?line=0'>1</a>\u001b[0m action \u001b[39m=\u001b[39m client\u001b[39m.\u001b[39;49maction_template\u001b[39m.\u001b[39;49mset_input(\u001b[39m1\u001b[39;49m)\n",
      "\u001b[1;31mTypeError\u001b[0m: set_input() missing 1 required positional argument: 'value'"
     ]
    }
   ],
   "source": [
    "action = client.action_template.set_input(1)"
   ]
  },
  {
   "cell_type": "code",
   "execution_count": 14,
   "metadata": {},
   "outputs": [
    {
     "data": {
      "text/plain": [
       "True"
      ]
     },
     "execution_count": 14,
     "metadata": {},
     "output_type": "execute_result"
    }
   ],
   "source": [
    "run.is_terminal()"
   ]
  },
  {
   "cell_type": "code",
   "execution_count": 15,
   "metadata": {},
   "outputs": [
    {
     "data": {
      "text/plain": [
       "(<RunStatus.COMPLETED: 'COMPLETED'>,\n",
       " {'reason': 'STOP_TIMEDATE',\n",
       "  'next_event_time': '-Infinity',\n",
       "  'episode_count': 1,\n",
       "  'step_count': 1,\n",
       "  'model_time': 'Infinity'})"
      ]
     },
     "execution_count": 15,
     "metadata": {},
     "output_type": "execute_result"
    }
   ],
   "source": [
    "run.get_state()"
   ]
  }
 ],
 "metadata": {
  "interpreter": {
   "hash": "42330db9e7c84511327a9aafae55af40b0070f1b76a811f5ea8231885452c2cb"
  },
  "kernelspec": {
   "display_name": "Python 3.10.4 ('thesis')",
   "language": "python",
   "name": "python3"
  },
  "language_info": {
   "codemirror_mode": {
    "name": "ipython",
    "version": 3
   },
   "file_extension": ".py",
   "mimetype": "text/x-python",
   "name": "python",
   "nbconvert_exporter": "python",
   "pygments_lexer": "ipython3",
   "version": "3.8.13"
  },
  "orig_nbformat": 4
 },
 "nbformat": 4,
 "nbformat_minor": 2
}
