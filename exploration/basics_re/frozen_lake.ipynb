{
 "cells": [
  {
   "cell_type": "code",
   "execution_count": 2,
   "metadata": {},
   "outputs": [],
   "source": [
    "import numpy as np\n",
    "import gym\n",
    "import random\n",
    "import time\n",
    "from IPython.display import clear_output"
   ]
  },
  {
   "cell_type": "code",
   "execution_count": 3,
   "metadata": {},
   "outputs": [],
   "source": [
    "env = gym.make(\"FrozenLake-v1\")"
   ]
  },
  {
   "cell_type": "code",
   "execution_count": 4,
   "metadata": {},
   "outputs": [
    {
     "name": "stdout",
     "output_type": "stream",
     "text": [
      "[[0. 0. 0. 0.]\n",
      " [0. 0. 0. 0.]\n",
      " [0. 0. 0. 0.]\n",
      " [0. 0. 0. 0.]\n",
      " [0. 0. 0. 0.]\n",
      " [0. 0. 0. 0.]\n",
      " [0. 0. 0. 0.]\n",
      " [0. 0. 0. 0.]\n",
      " [0. 0. 0. 0.]\n",
      " [0. 0. 0. 0.]\n",
      " [0. 0. 0. 0.]\n",
      " [0. 0. 0. 0.]\n",
      " [0. 0. 0. 0.]\n",
      " [0. 0. 0. 0.]\n",
      " [0. 0. 0. 0.]\n",
      " [0. 0. 0. 0.]]\n"
     ]
    }
   ],
   "source": [
    "action_space_size = env.action_space.n\n",
    "state_space_size = env.observation_space.n\n",
    "\n",
    "q_table = np.zeros((state_space_size, action_space_size))\n",
    "print(q_table)"
   ]
  },
  {
   "cell_type": "code",
   "execution_count": 5,
   "metadata": {},
   "outputs": [],
   "source": [
    "num_episodes = 30000\n",
    "max_steps_per_episode = 100\n",
    "\n",
    "learning_rate = 0.1     #Alpha\n",
    "discount_rate = 0.99    #Gamma\n",
    "\n",
    "exploration_rate = 1\n",
    "max_exploration_rate = 1\n",
    "min_exploration_rate = 0.01\n",
    "exploration_decay_rate = 0.001"
   ]
  },
  {
   "cell_type": "code",
   "execution_count": 6,
   "metadata": {},
   "outputs": [],
   "source": [
    "rewards_all_episodes = []"
   ]
  },
  {
   "cell_type": "code",
   "execution_count": 7,
   "metadata": {},
   "outputs": [
    {
     "name": "stdout",
     "output_type": "stream",
     "text": [
      "*******Average reward per thousand episodes*******\n",
      "\n",
      "1000 :  0.05400000000000004\n",
      "2000 :  0.20500000000000015\n",
      "3000 :  0.4140000000000003\n",
      "4000 :  0.5630000000000004\n",
      "5000 :  0.6040000000000004\n",
      "6000 :  0.6450000000000005\n",
      "7000 :  0.7040000000000005\n",
      "8000 :  0.6750000000000005\n",
      "9000 :  0.6600000000000005\n",
      "10000 :  0.6890000000000005\n",
      "11000 :  0.6960000000000005\n",
      "12000 :  0.6650000000000005\n",
      "13000 :  0.6860000000000005\n",
      "14000 :  0.6810000000000005\n",
      "15000 :  0.6920000000000005\n",
      "16000 :  0.6670000000000005\n",
      "17000 :  0.7040000000000005\n",
      "18000 :  0.6570000000000005\n",
      "19000 :  0.6820000000000005\n",
      "20000 :  0.7080000000000005\n",
      "21000 :  0.6840000000000005\n",
      "22000 :  0.6550000000000005\n",
      "23000 :  0.6870000000000005\n",
      "24000 :  0.6620000000000005\n",
      "25000 :  0.6920000000000005\n",
      "26000 :  0.6650000000000005\n",
      "27000 :  0.6740000000000005\n",
      "28000 :  0.6900000000000005\n",
      "29000 :  0.6540000000000005\n",
      "30000 :  0.6740000000000005\n",
      "\n",
      "\n",
      "*******Q-table*******\n",
      "\n",
      "[[0.58554903 0.51799719 0.50332643 0.51810293]\n",
      " [0.32222344 0.28547468 0.35813997 0.5053781 ]\n",
      " [0.39626862 0.39289959 0.41492064 0.47607591]\n",
      " [0.26121309 0.28334311 0.32033645 0.45633597]\n",
      " [0.60545699 0.47075079 0.33123271 0.38828774]\n",
      " [0.         0.         0.         0.        ]\n",
      " [0.11943677 0.14955152 0.30557402 0.19035024]\n",
      " [0.         0.         0.         0.        ]\n",
      " [0.36568696 0.29676501 0.3892848  0.64267625]\n",
      " [0.29256499 0.70632768 0.32670396 0.38917912]\n",
      " [0.69296912 0.44285337 0.32378622 0.29615267]\n",
      " [0.         0.         0.         0.        ]\n",
      " [0.         0.         0.         0.        ]\n",
      " [0.41856437 0.42522302 0.79109735 0.31785739]\n",
      " [0.73114155 0.87372252 0.74830233 0.79200023]\n",
      " [0.         0.         0.         0.        ]]\n"
     ]
    }
   ],
   "source": [
    "# Q-learning algorithm\n",
    "for episode in range(num_episodes):\n",
    "    state = env.reset()\n",
    "    \n",
    "    done = False\n",
    "    rewards_current_episode = 0\n",
    "\n",
    "    for step in range(max_steps_per_episode): \n",
    "        # Exploration-exploitation trade-off\n",
    "        exploration_rate_threshold = random.uniform(0,1)\n",
    "        if exploration_rate_threshold > exploration_rate:\n",
    "            action = np.argmax(q_table[state,:])\n",
    "        else:\n",
    "            action = env.action_space.sample()\n",
    "            \n",
    "        new_state, reward, done, info = env.step(action)\n",
    "        \n",
    "        # Update Q-table\n",
    "        q_table[state, action] = q_table[state, action] * (1-learning_rate) + \\\n",
    "            learning_rate * (reward + discount_rate * np.max(q_table[new_state, :]))\n",
    "        \n",
    "        state = new_state\n",
    "        rewards_current_episode += reward\n",
    "        \n",
    "        if done == True:\n",
    "            break        \n",
    "\n",
    "    # Exploration rate decay   \n",
    "    exploration_rate = min_exploration_rate + \\\n",
    "        (max_exploration_rate - min_exploration_rate) * np.exp(-exploration_decay_rate * episode)\n",
    "        \n",
    "    # Add current episode reward to total rewards list\n",
    "    rewards_all_episodes.append(rewards_current_episode)\n",
    "    \n",
    "rewards_per_thousand_episodes = np.split(np.array(rewards_all_episodes), len(rewards_all_episodes)/1000)\n",
    "count = 1000\n",
    "print(\"*******Average reward per thousand episodes*******\\n\")\n",
    "for r in rewards_per_thousand_episodes:\n",
    "    print(count, \": \", str(sum(r/1000)))\n",
    "    count += 1000\n",
    "    \n",
    "print(\"\\n\\n*******Q-table*******\\n\")\n",
    "print(q_table)"
   ]
  },
  {
   "cell_type": "code",
   "execution_count": 9,
   "metadata": {},
   "outputs": [
    {
     "data": {
      "text/plain": [
       "0"
      ]
     },
     "execution_count": 9,
     "metadata": {},
     "output_type": "execute_result"
    }
   ],
   "source": [
    "env.reset()"
   ]
  },
  {
   "cell_type": "code",
   "execution_count": 15,
   "metadata": {},
   "outputs": [
    {
     "data": {
      "text/plain": [
       "(4, 0.0, False, {'prob': 0.3333333333333333})"
      ]
     },
     "execution_count": 15,
     "metadata": {},
     "output_type": "execute_result"
    }
   ],
   "source": [
    "env.step(1)"
   ]
  },
  {
   "cell_type": "code",
   "execution_count": 7,
   "metadata": {},
   "outputs": [
    {
     "name": "stdout",
     "output_type": "stream",
     "text": [
      "*******Your reached the Goal!*******\n"
     ]
    }
   ],
   "source": [
    "# Q-learning algorithm\n",
    "for episode in range(num_episodes):\n",
    "    state = env.reset()\n",
    "    done = False\n",
    "    print(\"*******EPISODE\", episode + 1, \"*******\\n\\n\\n\\n\")\n",
    "    time.sleep(1)\n",
    "    #rewards_current_episode = 0\n",
    "\n",
    "    for step in range(max_steps_per_episode): \n",
    "        clear_output(wait = True)\n",
    "        env.render()\n",
    "        time.sleep(0.3)\n",
    "        \n",
    "        action = np.argmax(q_table[state, :])   \n",
    "        new_state, reward, done, info = env.step(action)\n",
    "        \n",
    "        if done:\n",
    "            clear_output(wait=True)\n",
    "            env.render()\n",
    "            if reward == 1:\n",
    "                print(\"*******Your reached the Goal!*******\")\n",
    "                time.sleep(3)\n",
    "            else:\n",
    "                print(\"*******You fell through a hole!*******\")\n",
    "                time.sleep(3)\n",
    "            clear_output(wait=True)\n",
    "            break\n",
    "        state = new_state\n",
    "                \n",
    "        \n",
    "env.close()"
   ]
  }
 ],
 "metadata": {
  "interpreter": {
   "hash": "42330db9e7c84511327a9aafae55af40b0070f1b76a811f5ea8231885452c2cb"
  },
  "kernelspec": {
   "display_name": "Python 3.10.4 ('thesis')",
   "language": "python",
   "name": "python3"
  },
  "language_info": {
   "codemirror_mode": {
    "name": "ipython",
    "version": 3
   },
   "file_extension": ".py",
   "mimetype": "text/x-python",
   "name": "python",
   "nbconvert_exporter": "python",
   "pygments_lexer": "ipython3",
   "version": "3.10.4"
  },
  "orig_nbformat": 4
 },
 "nbformat": 4,
 "nbformat_minor": 2
}
