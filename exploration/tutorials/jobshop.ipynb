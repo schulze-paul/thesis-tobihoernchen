{
 "cells": [
  {
   "cell_type": "code",
   "execution_count": 1,
   "metadata": {},
   "outputs": [],
   "source": [
    "import sys\n",
    "import time\n",
    "sys.path.append(\"../..\")\n",
    "from thesis.envs.job_shop import JobShop\n",
    "from alpyne.client.alpyne_client import AlpyneClient\n",
    "from alpyne.data.spaces import Action\n",
    "from stable_baselines3 import PPO\n",
    "from stable_baselines3.common.utils import set_random_seed\n",
    "seed = 1\n",
    "set_random_seed(seed)"
   ]
  },
  {
   "cell_type": "code",
   "execution_count": 2,
   "metadata": {},
   "outputs": [],
   "source": [
    "models_dir = \"../../models/JobShop\"\n",
    "logdir = \"../../logs/JobShop\"\n",
    "run_name = f\"PPO-{time.time()}-{seed}\""
   ]
  },
  {
   "cell_type": "code",
   "execution_count": 3,
   "metadata": {},
   "outputs": [
    {
     "name": "stderr",
     "output_type": "stream",
     "text": [
      "c:\\Users\\Wegma\\.conda\\envs\\thesis\\lib\\site-packages\\alpyne\\client\\utils.py:124: UserWarning: Unzipping to temporary directory (C:\\Users\\Wegma\\AppData\\Local\\Temp\\alpyne_67389_v_jub2vp)\n",
      "  warn(f\"Unzipping to temporary directory ({tmp_dir})\")\n"
     ]
    }
   ],
   "source": [
    "env = JobShop(\"../../envs\\Job Shop RL.zip\", 100000)"
   ]
  },
  {
   "cell_type": "code",
   "execution_count": 8,
   "metadata": {},
   "outputs": [
    {
     "data": {
      "text/plain": [
       "<alpyne.client.model_run.ModelRun at 0x26de672cf70>"
      ]
     },
     "execution_count": 8,
     "metadata": {},
     "output_type": "execute_result"
    }
   ],
   "source": [
    "env.run.take_action(env._convert_to_action(1))"
   ]
  },
  {
   "cell_type": "code",
   "execution_count": 10,
   "metadata": {},
   "outputs": [
    {
     "data": {
      "text/plain": [
       "[_observation:DOUBLE_ARRAY=[0.0, 0.0, 0.0, 0.0, 1.0], _reward:DOUBLE=0]"
      ]
     },
     "execution_count": 10,
     "metadata": {},
     "output_type": "execute_result"
    }
   ],
   "source": [
    "env.run.get_observation()"
   ]
  },
  {
   "cell_type": "code",
   "execution_count": 11,
   "metadata": {},
   "outputs": [
    {
     "data": {
      "text/plain": [
       "<alpyne.client.model_run.ModelRun at 0x26de672cf70>"
      ]
     },
     "execution_count": 11,
     "metadata": {},
     "output_type": "execute_result"
    }
   ],
   "source": [
    "env.run.reset()"
   ]
  },
  {
   "cell_type": "code",
   "execution_count": 9,
   "metadata": {},
   "outputs": [
    {
     "data": {
      "text/plain": [
       "(<RunStatus.PAUSED: 'PAUSED'>,\n",
       " {'reason': None,\n",
       "  'next_event_time': 3.004999999999958,\n",
       "  'episode_count': 1,\n",
       "  'step_count': 4,\n",
       "  'model_time': 3.0})"
      ]
     },
     "execution_count": 9,
     "metadata": {},
     "output_type": "execute_result"
    }
   ],
   "source": [
    "env.run.get_state()"
   ]
  },
  {
   "cell_type": "code",
   "execution_count": 4,
   "metadata": {},
   "outputs": [],
   "source": [
    "model = PPO(\n",
    "    \"MlpPolicy\", \n",
    "    env, \n",
    "    tensorboard_log= logdir\n",
    "    )"
   ]
  },
  {
   "cell_type": "code",
   "execution_count": 5,
   "metadata": {},
   "outputs": [
    {
     "ename": "KeyboardInterrupt",
     "evalue": "",
     "output_type": "error",
     "traceback": [
      "\u001b[1;31m---------------------------------------------------------------------------\u001b[0m",
      "\u001b[1;31mKeyboardInterrupt\u001b[0m                         Traceback (most recent call last)",
      "\u001b[1;32md:\\Master\\Masterarbeit\\thesis\\exploration\\tutorials\\jobshop.ipynb Cell 6'\u001b[0m in \u001b[0;36m<cell line: 2>\u001b[1;34m()\u001b[0m\n\u001b[0;32m      <a href='vscode-notebook-cell:/d%3A/Master/Masterarbeit/thesis/exploration/tutorials/jobshop.ipynb#ch0000004?line=0'>1</a>\u001b[0m TIMESTEPS \u001b[39m=\u001b[39m \u001b[39m10000\u001b[39m\n\u001b[0;32m      <a href='vscode-notebook-cell:/d%3A/Master/Masterarbeit/thesis/exploration/tutorials/jobshop.ipynb#ch0000004?line=1'>2</a>\u001b[0m \u001b[39mfor\u001b[39;00m i \u001b[39min\u001b[39;00m \u001b[39mrange\u001b[39m(\u001b[39m1\u001b[39m, \u001b[39m30\u001b[39m):\n\u001b[1;32m----> <a href='vscode-notebook-cell:/d%3A/Master/Masterarbeit/thesis/exploration/tutorials/jobshop.ipynb#ch0000004?line=2'>3</a>\u001b[0m     model\u001b[39m.\u001b[39;49mlearn(total_timesteps\u001b[39m=\u001b[39;49mTIMESTEPS, reset_num_timesteps\u001b[39m=\u001b[39;49m\u001b[39mFalse\u001b[39;49;00m, tb_log_name\u001b[39m=\u001b[39;49mrun_name)\n\u001b[0;32m      <a href='vscode-notebook-cell:/d%3A/Master/Masterarbeit/thesis/exploration/tutorials/jobshop.ipynb#ch0000004?line=3'>4</a>\u001b[0m     model\u001b[39m.\u001b[39msave(\u001b[39mf\u001b[39m\u001b[39m\"\u001b[39m\u001b[39m{\u001b[39;00mmodels_dir\u001b[39m}\u001b[39;00m\u001b[39m/\u001b[39m\u001b[39m{\u001b[39;00mrun_name\u001b[39m}\u001b[39;00m\u001b[39m-\u001b[39m\u001b[39m{\u001b[39;00mTIMESTEPS \u001b[39m*\u001b[39m i\u001b[39m}\u001b[39;00m\u001b[39m\"\u001b[39m)\n",
      "File \u001b[1;32mc:\\Users\\Wegma\\.conda\\envs\\thesis\\lib\\site-packages\\stable_baselines3\\ppo\\ppo.py:304\u001b[0m, in \u001b[0;36mPPO.learn\u001b[1;34m(self, total_timesteps, callback, log_interval, eval_env, eval_freq, n_eval_episodes, tb_log_name, eval_log_path, reset_num_timesteps)\u001b[0m\n\u001b[0;32m    <a href='file:///c%3A/Users/Wegma/.conda/envs/thesis/lib/site-packages/stable_baselines3/ppo/ppo.py?line=290'>291</a>\u001b[0m \u001b[39mdef\u001b[39;00m \u001b[39mlearn\u001b[39m(\n\u001b[0;32m    <a href='file:///c%3A/Users/Wegma/.conda/envs/thesis/lib/site-packages/stable_baselines3/ppo/ppo.py?line=291'>292</a>\u001b[0m     \u001b[39mself\u001b[39m,\n\u001b[0;32m    <a href='file:///c%3A/Users/Wegma/.conda/envs/thesis/lib/site-packages/stable_baselines3/ppo/ppo.py?line=292'>293</a>\u001b[0m     total_timesteps: \u001b[39mint\u001b[39m,\n\u001b[1;32m   (...)\u001b[0m\n\u001b[0;32m    <a href='file:///c%3A/Users/Wegma/.conda/envs/thesis/lib/site-packages/stable_baselines3/ppo/ppo.py?line=300'>301</a>\u001b[0m     reset_num_timesteps: \u001b[39mbool\u001b[39m \u001b[39m=\u001b[39m \u001b[39mTrue\u001b[39;00m,\n\u001b[0;32m    <a href='file:///c%3A/Users/Wegma/.conda/envs/thesis/lib/site-packages/stable_baselines3/ppo/ppo.py?line=301'>302</a>\u001b[0m ) \u001b[39m-\u001b[39m\u001b[39m>\u001b[39m \u001b[39m\"\u001b[39m\u001b[39mPPO\u001b[39m\u001b[39m\"\u001b[39m:\n\u001b[1;32m--> <a href='file:///c%3A/Users/Wegma/.conda/envs/thesis/lib/site-packages/stable_baselines3/ppo/ppo.py?line=303'>304</a>\u001b[0m     \u001b[39mreturn\u001b[39;00m \u001b[39msuper\u001b[39;49m(PPO, \u001b[39mself\u001b[39;49m)\u001b[39m.\u001b[39;49mlearn(\n\u001b[0;32m    <a href='file:///c%3A/Users/Wegma/.conda/envs/thesis/lib/site-packages/stable_baselines3/ppo/ppo.py?line=304'>305</a>\u001b[0m         total_timesteps\u001b[39m=\u001b[39;49mtotal_timesteps,\n\u001b[0;32m    <a href='file:///c%3A/Users/Wegma/.conda/envs/thesis/lib/site-packages/stable_baselines3/ppo/ppo.py?line=305'>306</a>\u001b[0m         callback\u001b[39m=\u001b[39;49mcallback,\n\u001b[0;32m    <a href='file:///c%3A/Users/Wegma/.conda/envs/thesis/lib/site-packages/stable_baselines3/ppo/ppo.py?line=306'>307</a>\u001b[0m         log_interval\u001b[39m=\u001b[39;49mlog_interval,\n\u001b[0;32m    <a href='file:///c%3A/Users/Wegma/.conda/envs/thesis/lib/site-packages/stable_baselines3/ppo/ppo.py?line=307'>308</a>\u001b[0m         eval_env\u001b[39m=\u001b[39;49meval_env,\n\u001b[0;32m    <a href='file:///c%3A/Users/Wegma/.conda/envs/thesis/lib/site-packages/stable_baselines3/ppo/ppo.py?line=308'>309</a>\u001b[0m         eval_freq\u001b[39m=\u001b[39;49meval_freq,\n\u001b[0;32m    <a href='file:///c%3A/Users/Wegma/.conda/envs/thesis/lib/site-packages/stable_baselines3/ppo/ppo.py?line=309'>310</a>\u001b[0m         n_eval_episodes\u001b[39m=\u001b[39;49mn_eval_episodes,\n\u001b[0;32m    <a href='file:///c%3A/Users/Wegma/.conda/envs/thesis/lib/site-packages/stable_baselines3/ppo/ppo.py?line=310'>311</a>\u001b[0m         tb_log_name\u001b[39m=\u001b[39;49mtb_log_name,\n\u001b[0;32m    <a href='file:///c%3A/Users/Wegma/.conda/envs/thesis/lib/site-packages/stable_baselines3/ppo/ppo.py?line=311'>312</a>\u001b[0m         eval_log_path\u001b[39m=\u001b[39;49meval_log_path,\n\u001b[0;32m    <a href='file:///c%3A/Users/Wegma/.conda/envs/thesis/lib/site-packages/stable_baselines3/ppo/ppo.py?line=312'>313</a>\u001b[0m         reset_num_timesteps\u001b[39m=\u001b[39;49mreset_num_timesteps,\n\u001b[0;32m    <a href='file:///c%3A/Users/Wegma/.conda/envs/thesis/lib/site-packages/stable_baselines3/ppo/ppo.py?line=313'>314</a>\u001b[0m     )\n",
      "File \u001b[1;32mc:\\Users\\Wegma\\.conda\\envs\\thesis\\lib\\site-packages\\stable_baselines3\\common\\on_policy_algorithm.py:242\u001b[0m, in \u001b[0;36mOnPolicyAlgorithm.learn\u001b[1;34m(self, total_timesteps, callback, log_interval, eval_env, eval_freq, n_eval_episodes, tb_log_name, eval_log_path, reset_num_timesteps)\u001b[0m\n\u001b[0;32m    <a href='file:///c%3A/Users/Wegma/.conda/envs/thesis/lib/site-packages/stable_baselines3/common/on_policy_algorithm.py?line=227'>228</a>\u001b[0m \u001b[39mdef\u001b[39;00m \u001b[39mlearn\u001b[39m(\n\u001b[0;32m    <a href='file:///c%3A/Users/Wegma/.conda/envs/thesis/lib/site-packages/stable_baselines3/common/on_policy_algorithm.py?line=228'>229</a>\u001b[0m     \u001b[39mself\u001b[39m,\n\u001b[0;32m    <a href='file:///c%3A/Users/Wegma/.conda/envs/thesis/lib/site-packages/stable_baselines3/common/on_policy_algorithm.py?line=229'>230</a>\u001b[0m     total_timesteps: \u001b[39mint\u001b[39m,\n\u001b[1;32m   (...)\u001b[0m\n\u001b[0;32m    <a href='file:///c%3A/Users/Wegma/.conda/envs/thesis/lib/site-packages/stable_baselines3/common/on_policy_algorithm.py?line=237'>238</a>\u001b[0m     reset_num_timesteps: \u001b[39mbool\u001b[39m \u001b[39m=\u001b[39m \u001b[39mTrue\u001b[39;00m,\n\u001b[0;32m    <a href='file:///c%3A/Users/Wegma/.conda/envs/thesis/lib/site-packages/stable_baselines3/common/on_policy_algorithm.py?line=238'>239</a>\u001b[0m ) \u001b[39m-\u001b[39m\u001b[39m>\u001b[39m \u001b[39m\"\u001b[39m\u001b[39mOnPolicyAlgorithm\u001b[39m\u001b[39m\"\u001b[39m:\n\u001b[0;32m    <a href='file:///c%3A/Users/Wegma/.conda/envs/thesis/lib/site-packages/stable_baselines3/common/on_policy_algorithm.py?line=239'>240</a>\u001b[0m     iteration \u001b[39m=\u001b[39m \u001b[39m0\u001b[39m\n\u001b[1;32m--> <a href='file:///c%3A/Users/Wegma/.conda/envs/thesis/lib/site-packages/stable_baselines3/common/on_policy_algorithm.py?line=241'>242</a>\u001b[0m     total_timesteps, callback \u001b[39m=\u001b[39m \u001b[39mself\u001b[39;49m\u001b[39m.\u001b[39;49m_setup_learn(\n\u001b[0;32m    <a href='file:///c%3A/Users/Wegma/.conda/envs/thesis/lib/site-packages/stable_baselines3/common/on_policy_algorithm.py?line=242'>243</a>\u001b[0m         total_timesteps, eval_env, callback, eval_freq, n_eval_episodes, eval_log_path, reset_num_timesteps, tb_log_name\n\u001b[0;32m    <a href='file:///c%3A/Users/Wegma/.conda/envs/thesis/lib/site-packages/stable_baselines3/common/on_policy_algorithm.py?line=243'>244</a>\u001b[0m     )\n\u001b[0;32m    <a href='file:///c%3A/Users/Wegma/.conda/envs/thesis/lib/site-packages/stable_baselines3/common/on_policy_algorithm.py?line=245'>246</a>\u001b[0m     callback\u001b[39m.\u001b[39mon_training_start(\u001b[39mlocals\u001b[39m(), \u001b[39mglobals\u001b[39m())\n\u001b[0;32m    <a href='file:///c%3A/Users/Wegma/.conda/envs/thesis/lib/site-packages/stable_baselines3/common/on_policy_algorithm.py?line=247'>248</a>\u001b[0m     \u001b[39mwhile\u001b[39;00m \u001b[39mself\u001b[39m\u001b[39m.\u001b[39mnum_timesteps \u001b[39m<\u001b[39m total_timesteps:\n",
      "File \u001b[1;32mc:\\Users\\Wegma\\.conda\\envs\\thesis\\lib\\site-packages\\stable_baselines3\\common\\base_class.py:429\u001b[0m, in \u001b[0;36mBaseAlgorithm._setup_learn\u001b[1;34m(self, total_timesteps, eval_env, callback, eval_freq, n_eval_episodes, log_path, reset_num_timesteps, tb_log_name)\u001b[0m\n\u001b[0;32m    <a href='file:///c%3A/Users/Wegma/.conda/envs/thesis/lib/site-packages/stable_baselines3/common/base_class.py?line=426'>427</a>\u001b[0m \u001b[39m# Avoid resetting the environment when calling ``.learn()`` consecutive times\u001b[39;00m\n\u001b[0;32m    <a href='file:///c%3A/Users/Wegma/.conda/envs/thesis/lib/site-packages/stable_baselines3/common/base_class.py?line=427'>428</a>\u001b[0m \u001b[39mif\u001b[39;00m reset_num_timesteps \u001b[39mor\u001b[39;00m \u001b[39mself\u001b[39m\u001b[39m.\u001b[39m_last_obs \u001b[39mis\u001b[39;00m \u001b[39mNone\u001b[39;00m:\n\u001b[1;32m--> <a href='file:///c%3A/Users/Wegma/.conda/envs/thesis/lib/site-packages/stable_baselines3/common/base_class.py?line=428'>429</a>\u001b[0m     \u001b[39mself\u001b[39m\u001b[39m.\u001b[39m_last_obs \u001b[39m=\u001b[39m \u001b[39mself\u001b[39;49m\u001b[39m.\u001b[39;49menv\u001b[39m.\u001b[39;49mreset()  \u001b[39m# pytype: disable=annotation-type-mismatch\u001b[39;00m\n\u001b[0;32m    <a href='file:///c%3A/Users/Wegma/.conda/envs/thesis/lib/site-packages/stable_baselines3/common/base_class.py?line=429'>430</a>\u001b[0m     \u001b[39mself\u001b[39m\u001b[39m.\u001b[39m_last_episode_starts \u001b[39m=\u001b[39m np\u001b[39m.\u001b[39mones((\u001b[39mself\u001b[39m\u001b[39m.\u001b[39menv\u001b[39m.\u001b[39mnum_envs,), dtype\u001b[39m=\u001b[39m\u001b[39mbool\u001b[39m)\n\u001b[0;32m    <a href='file:///c%3A/Users/Wegma/.conda/envs/thesis/lib/site-packages/stable_baselines3/common/base_class.py?line=430'>431</a>\u001b[0m     \u001b[39m# Retrieve unnormalized observation for saving into the buffer\u001b[39;00m\n",
      "File \u001b[1;32mc:\\Users\\Wegma\\.conda\\envs\\thesis\\lib\\site-packages\\stable_baselines3\\common\\vec_env\\dummy_vec_env.py:61\u001b[0m, in \u001b[0;36mDummyVecEnv.reset\u001b[1;34m(self)\u001b[0m\n\u001b[0;32m     <a href='file:///c%3A/Users/Wegma/.conda/envs/thesis/lib/site-packages/stable_baselines3/common/vec_env/dummy_vec_env.py?line=58'>59</a>\u001b[0m \u001b[39mdef\u001b[39;00m \u001b[39mreset\u001b[39m(\u001b[39mself\u001b[39m) \u001b[39m-\u001b[39m\u001b[39m>\u001b[39m VecEnvObs:\n\u001b[0;32m     <a href='file:///c%3A/Users/Wegma/.conda/envs/thesis/lib/site-packages/stable_baselines3/common/vec_env/dummy_vec_env.py?line=59'>60</a>\u001b[0m     \u001b[39mfor\u001b[39;00m env_idx \u001b[39min\u001b[39;00m \u001b[39mrange\u001b[39m(\u001b[39mself\u001b[39m\u001b[39m.\u001b[39mnum_envs):\n\u001b[1;32m---> <a href='file:///c%3A/Users/Wegma/.conda/envs/thesis/lib/site-packages/stable_baselines3/common/vec_env/dummy_vec_env.py?line=60'>61</a>\u001b[0m         obs \u001b[39m=\u001b[39m \u001b[39mself\u001b[39;49m\u001b[39m.\u001b[39;49menvs[env_idx]\u001b[39m.\u001b[39;49mreset()\n\u001b[0;32m     <a href='file:///c%3A/Users/Wegma/.conda/envs/thesis/lib/site-packages/stable_baselines3/common/vec_env/dummy_vec_env.py?line=61'>62</a>\u001b[0m         \u001b[39mself\u001b[39m\u001b[39m.\u001b[39m_save_obs(env_idx, obs)\n\u001b[0;32m     <a href='file:///c%3A/Users/Wegma/.conda/envs/thesis/lib/site-packages/stable_baselines3/common/vec_env/dummy_vec_env.py?line=62'>63</a>\u001b[0m     \u001b[39mreturn\u001b[39;00m \u001b[39mself\u001b[39m\u001b[39m.\u001b[39m_obs_from_buf()\n",
      "File \u001b[1;32mc:\\Users\\Wegma\\.conda\\envs\\thesis\\lib\\site-packages\\stable_baselines3\\common\\monitor.py:79\u001b[0m, in \u001b[0;36mMonitor.reset\u001b[1;34m(self, **kwargs)\u001b[0m\n\u001b[0;32m     <a href='file:///c%3A/Users/Wegma/.conda/envs/thesis/lib/site-packages/stable_baselines3/common/monitor.py?line=76'>77</a>\u001b[0m         \u001b[39mraise\u001b[39;00m \u001b[39mValueError\u001b[39;00m(\u001b[39mf\u001b[39m\u001b[39m\"\u001b[39m\u001b[39mExpected you to pass keyword argument \u001b[39m\u001b[39m{\u001b[39;00mkey\u001b[39m}\u001b[39;00m\u001b[39m into reset\u001b[39m\u001b[39m\"\u001b[39m)\n\u001b[0;32m     <a href='file:///c%3A/Users/Wegma/.conda/envs/thesis/lib/site-packages/stable_baselines3/common/monitor.py?line=77'>78</a>\u001b[0m     \u001b[39mself\u001b[39m\u001b[39m.\u001b[39mcurrent_reset_info[key] \u001b[39m=\u001b[39m value\n\u001b[1;32m---> <a href='file:///c%3A/Users/Wegma/.conda/envs/thesis/lib/site-packages/stable_baselines3/common/monitor.py?line=78'>79</a>\u001b[0m \u001b[39mreturn\u001b[39;00m \u001b[39mself\u001b[39;49m\u001b[39m.\u001b[39;49menv\u001b[39m.\u001b[39;49mreset(\u001b[39m*\u001b[39;49m\u001b[39m*\u001b[39;49mkwargs)\n",
      "File \u001b[1;32md:\\Master\\Masterarbeit\\thesis\\exploration\\tutorials\\../..\\thesis\\envs\\job_shop.py:22\u001b[0m, in \u001b[0;36mJobShop.reset\u001b[1;34m(self)\u001b[0m\n\u001b[0;32m     <a href='file:///d%3A/Master/Masterarbeit/thesis/exploration/tutorials/../../thesis/envs/job_shop.py?line=19'>20</a>\u001b[0m \u001b[39mdef\u001b[39;00m \u001b[39mreset\u001b[39m(\u001b[39mself\u001b[39m) \u001b[39m-\u001b[39m\u001b[39m>\u001b[39m \u001b[39m\"\u001b[39m\u001b[39mBaseAlpyneEnv.PyObservationType\u001b[39m\u001b[39m\"\u001b[39m:\n\u001b[0;32m     <a href='file:///d%3A/Master/Masterarbeit/thesis/exploration/tutorials/../../thesis/envs/job_shop.py?line=20'>21</a>\u001b[0m     \u001b[39mself\u001b[39m\u001b[39m.\u001b[39mstepcounter \u001b[39m=\u001b[39m \u001b[39m0\u001b[39m\n\u001b[1;32m---> <a href='file:///d%3A/Master/Masterarbeit/thesis/exploration/tutorials/../../thesis/envs/job_shop.py?line=21'>22</a>\u001b[0m     \u001b[39mreturn\u001b[39;00m \u001b[39msuper\u001b[39;49m()\u001b[39m.\u001b[39;49mreset()\n",
      "File \u001b[1;32mc:\\Users\\Wegma\\.conda\\envs\\thesis\\lib\\site-packages\\alpyne\\client\\abstract.py:285\u001b[0m, in \u001b[0;36mBaseAlpyneEnv.reset\u001b[1;34m(self)\u001b[0m\n\u001b[0;32m    <a href='file:///c%3A/Users/Wegma/.conda/envs/thesis/lib/site-packages/alpyne/client/abstract.py?line=271'>272</a>\u001b[0m \u001b[39m\"\"\"\u001b[39;00m\n\u001b[0;32m    <a href='file:///c%3A/Users/Wegma/.conda/envs/thesis/lib/site-packages/alpyne/client/abstract.py?line=272'>273</a>\u001b[0m \u001b[39mA method required as part of the gym interface to revert the sim to the start.\u001b[39;00m\n\u001b[0;32m    <a href='file:///c%3A/Users/Wegma/.conda/envs/thesis/lib/site-packages/alpyne/client/abstract.py?line=273'>274</a>\u001b[0m \n\u001b[1;32m   (...)\u001b[0m\n\u001b[0;32m    <a href='file:///c%3A/Users/Wegma/.conda/envs/thesis/lib/site-packages/alpyne/client/abstract.py?line=281'>282</a>\u001b[0m \u001b[39m:return: The first observation (in the type expressed by your observation space)\u001b[39;00m\n\u001b[0;32m    <a href='file:///c%3A/Users/Wegma/.conda/envs/thesis/lib/site-packages/alpyne/client/abstract.py?line=282'>283</a>\u001b[0m \u001b[39m\"\"\"\u001b[39;00m\n\u001b[0;32m    <a href='file:///c%3A/Users/Wegma/.conda/envs/thesis/lib/site-packages/alpyne/client/abstract.py?line=283'>284</a>\u001b[0m \u001b[39mself\u001b[39m\u001b[39m.\u001b[39msim\u001b[39m.\u001b[39mreset()\n\u001b[1;32m--> <a href='file:///c%3A/Users/Wegma/.conda/envs/thesis/lib/site-packages/alpyne/client/abstract.py?line=284'>285</a>\u001b[0m \u001b[39mself\u001b[39;49m\u001b[39m.\u001b[39;49msim\u001b[39m.\u001b[39;49mwait_for_completion()\n\u001b[0;32m    <a href='file:///c%3A/Users/Wegma/.conda/envs/thesis/lib/site-packages/alpyne/client/abstract.py?line=285'>286</a>\u001b[0m alpyne_obs \u001b[39m=\u001b[39m \u001b[39mself\u001b[39m\u001b[39m.\u001b[39msim\u001b[39m.\u001b[39mget_observation()\n\u001b[0;32m    <a href='file:///c%3A/Users/Wegma/.conda/envs/thesis/lib/site-packages/alpyne/client/abstract.py?line=286'>287</a>\u001b[0m obs \u001b[39m=\u001b[39m \u001b[39mself\u001b[39m\u001b[39m.\u001b[39m_convert_from_observation(alpyne_obs)\n",
      "File \u001b[1;32mc:\\Users\\Wegma\\.conda\\envs\\thesis\\lib\\site-packages\\alpyne\\client\\model_run.py:119\u001b[0m, in \u001b[0;36mModelRun.wait_for_completion\u001b[1;34m(self)\u001b[0m\n\u001b[0;32m    <a href='file:///c%3A/Users/Wegma/.conda/envs/thesis/lib/site-packages/alpyne/client/model_run.py?line=116'>117</a>\u001b[0m     \u001b[39mif\u001b[39;00m status \u001b[39m==\u001b[39m RunStatus\u001b[39m.\u001b[39mFAILED:\n\u001b[0;32m    <a href='file:///c%3A/Users/Wegma/.conda/envs/thesis/lib/site-packages/alpyne/client/model_run.py?line=117'>118</a>\u001b[0m         \u001b[39mraise\u001b[39;00m ModelError(info)\n\u001b[1;32m--> <a href='file:///c%3A/Users/Wegma/.conda/envs/thesis/lib/site-packages/alpyne/client/model_run.py?line=118'>119</a>\u001b[0m     time\u001b[39m.\u001b[39;49msleep(\u001b[39mself\u001b[39;49m\u001b[39m.\u001b[39;49mpolling_period)\n\u001b[0;32m    <a href='file:///c%3A/Users/Wegma/.conda/envs/thesis/lib/site-packages/alpyne/client/model_run.py?line=119'>120</a>\u001b[0m     status, info \u001b[39m=\u001b[39m \u001b[39mself\u001b[39m\u001b[39m.\u001b[39mget_state()\n\u001b[0;32m    <a href='file:///c%3A/Users/Wegma/.conda/envs/thesis/lib/site-packages/alpyne/client/model_run.py?line=120'>121</a>\u001b[0m \u001b[39mreturn\u001b[39;00m \u001b[39mself\u001b[39m\n",
      "\u001b[1;31mKeyboardInterrupt\u001b[0m: "
     ]
    }
   ],
   "source": [
    "TIMESTEPS = 10000\n",
    "for i in range(1, 30):\n",
    "    model.learn(total_timesteps=TIMESTEPS, reset_num_timesteps=False, tb_log_name=run_name)\n",
    "    model.save(f\"{models_dir}/{run_name}-{TIMESTEPS * i}\")"
   ]
  }
 ],
 "metadata": {
  "interpreter": {
   "hash": "dc7f4105f9f5e395f215a7643dd52717d50b308583dcde27027fbaaaba0d8cea"
  },
  "kernelspec": {
   "display_name": "Python 3.8.13 ('thesis')",
   "language": "python",
   "name": "python3"
  },
  "language_info": {
   "codemirror_mode": {
    "name": "ipython",
    "version": 3
   },
   "file_extension": ".py",
   "mimetype": "text/x-python",
   "name": "python",
   "nbconvert_exporter": "python",
   "pygments_lexer": "ipython3",
   "version": "3.8.13"
  },
  "orig_nbformat": 4
 },
 "nbformat": 4,
 "nbformat_minor": 2
}
