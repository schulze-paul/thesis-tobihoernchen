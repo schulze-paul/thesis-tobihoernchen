{
    "cells": [
        {
            "cell_type": "code",
            "execution_count": 1,
            "metadata": {},
            "outputs": [],
            "source": [
                "import sys\n",
                "import time\n",
                "\n",
                "from stable_baselines3 import PPO\n",
                "from stable_baselines3.common.utils import set_random_seed\n",
                "\n",
                "sys.path.append(\"../..\")\n",
                "from thesis.envs.minimatrix import MiniMatrix\n",
                "from thesis.policies.agv_routing import AgvRoutingFE\n",
                "\n",
                "seed = 42\n",
                "set_random_seed(seed)"
            ]
        },
        {
            "cell_type": "code",
            "execution_count": 2,
            "metadata": {},
            "outputs": [],
            "source": [
                "models_dir = \"../../models/MiniMatrix_Routing\"\n",
                "logdir = \"../../logs/MiniMatrix_Routing\"\n",
                "fleetsize = 5\n",
                "max_fleetsize = 5\n",
                "run_name = f\"PPO-{fleetsize}-{max_fleetsize}-{time.strftime('%d_%m-%H_%M_%S')}-{seed}\""
            ]
        },
        {
            "cell_type": "code",
            "execution_count": 3,
            "metadata": {},
            "outputs": [
                {
                    "name": "stderr",
                    "output_type": "stream",
                    "text": [
                        "c:\\Users\\Wegma\\.conda\\envs\\thesis\\lib\\site-packages\\alpyne\\client\\utils.py:124: UserWarning: Unzipping to temporary directory (C:\\Users\\Wegma\\AppData\\Local\\Temp\\alpyne_95539_i_0dn6lr)\n",
                        "  warn(f\"Unzipping to temporary directory ({tmp_dir})\")\n"
                    ]
                }
            ],
            "source": [
                "env = MiniMatrix(\n",
                "    \"../../envs/MiniMatrix.zip\", \n",
                "    max_seconds = 60*60, \n",
                "    fleetsize = fleetsize, \n",
                "    max_fleetsize=max_fleetsize, \n",
                "    config_args = dict(\n",
                "        reward_target = 10, \n",
                "        reward_block = -1, \n",
                "        dispatchinginterval=120,\n",
                "        reward_distance = 0.01,\n",
                "        withCollisions = False\n",
                "    )\n",
                ")"
            ]
        },
        {
            "cell_type": "code",
            "execution_count": null,
            "metadata": {},
            "outputs": [],
            "source": [
                "model =PPO(\n",
                "    \"MlpPolicy\", \n",
                "    env, \n",
                "    tensorboard_log= logdir,\n",
                "    device = \"cuda\",\n",
                "    policy_kwargs=dict(\n",
                "        net_arch = [dict(pi = [], vf = [])],\n",
                "        features_extractor_class=AgvRoutingFE, \n",
                "        features_extractor_kwargs=dict(max_fleetsize=max_fleetsize, with_transformer = True),\n",
                "        ),\n",
                "    learning_rate=1e-3\n",
                "    )\n"
            ]
        },
        {
            "cell_type": "code",
            "execution_count": 8,
            "metadata": {},
            "outputs": [],
            "source": [
                "# SAVE FE\n",
                "model.policy.features_extractor._save(f\"{models_dir}/FE/{run_name}\")"
            ]
        },
        {
            "cell_type": "code",
            "execution_count": 12,
            "metadata": {},
            "outputs": [],
            "source": [
                "# LOAD FE\n",
                "model.policy.features_extractor._load(f\"{models_dir}/FE/PPO-1-1-18_07-19_46_23-42\")"
            ]
        },
        {
            "cell_type": "code",
            "execution_count": null,
            "metadata": {},
            "outputs": [],
            "source": [
                "# LOAD\n",
                "model = PPO.load(f\"{models_dir}/PPO-1-1-07_11_19_19_02-42-200000.zip\", env =env)"
            ]
        },
        {
            "cell_type": "code",
            "execution_count": 5,
            "metadata": {},
            "outputs": [],
            "source": [
                "# TRAIN ONLY FE\n",
                "import torch\n",
                "def net_arch_to_eye(model):\n",
                "    def init_weights(m):\n",
                "        if isinstance(m, torch.nn.Linear):\n",
                "            torch.nn.init.eye_(m.weight)\n",
                "            m.bias.data.fill_(0.0)\n",
                "            for param in m.parameters():\n",
                "                param.requires_grad = False\n",
                "\n",
                "    model.action_net.apply(init_weights)\n",
                "    model.mlp_extractor.apply(init_weights)\n",
                "net_arch_to_eye(model.policy)"
            ]
        },
        {
            "cell_type": "code",
            "execution_count": null,
            "metadata": {},
            "outputs": [],
            "source": [
                "TIMESTEPS = 100000\n",
                "for i in range(1, 5):\n",
                "    model.learn(total_timesteps=TIMESTEPS, reset_num_timesteps=False, tb_log_name=run_name)\n",
                "    model.save(f\"{models_dir}/{run_name}-{TIMESTEPS * i}\")"
            ]
        }
    ],
    "metadata": {
        "kernelspec": {
            "display_name": "Python 3.8.13 ('thesis')",
            "language": "python",
            "name": "python3"
        },
        "language_info": {
            "codemirror_mode": {
                "name": "ipython",
                "version": 3
            },
            "file_extension": ".py",
            "mimetype": "text/x-python",
            "name": "python",
            "nbconvert_exporter": "python",
            "pygments_lexer": "ipython3",
            "version": "3.8.13"
        },
        "orig_nbformat": 4,
        "vscode": {
            "interpreter": {
                "hash": "dc7f4105f9f5e395f215a7643dd52717d50b308583dcde27027fbaaaba0d8cea"
            }
        }
    },
    "nbformat": 4,
    "nbformat_minor": 2
}
