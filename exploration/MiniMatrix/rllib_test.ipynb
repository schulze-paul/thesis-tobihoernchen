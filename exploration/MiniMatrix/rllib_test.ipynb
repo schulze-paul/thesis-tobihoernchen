{
 "cells": [
  {
   "cell_type": "markdown",
   "metadata": {},
   "source": [
    "Ray hat große Probleme vernünftig auf meiner Maschine zu laufen. \n",
    "Nach viel Debugging treten immer neue Fehler auf. \n",
    "Zu Zeitintensiv, Rückkehr zu SB3"
   ]
  },
  {
   "cell_type": "code",
   "execution_count": 1,
   "metadata": {},
   "outputs": [],
   "source": [
    "import ray\n",
    "import ray.rllib.agents.ppo as ppo\n",
    "from ray.rllib.policy.policy import PolicySpec\n",
    "from ray import tune\n",
    "import sys, os\n",
    "sys.path.append(\"../..\")\n",
    "os.environ[\"PYTHONPATH\"] = \"../..\"\n",
    "os.environ[\"TEST_TMPDIR\"] = \"../../logs/RAY\"\n",
    "from thesis.utils.utils import setup_matrix_for_ray\n",
    "\n",
    "\n",
    "ray.shutdown()\n",
    "ray.init(ignore_reinit_error=True, include_dashboard=True)\n",
    "setup_matrix_for_ray()"
   ]
  },
  {
   "cell_type": "code",
   "execution_count": 2,
   "metadata": {},
   "outputs": [
    {
     "name": "stderr",
     "output_type": "stream",
     "text": [
      "2022-08-17 06:54:43,041\tWARNING ppo.py:386 -- `train_batch_size` (4) cannot be achieved with your other settings (num_workers=0 num_envs_per_worker=1 rollout_fragment_length=200)! Auto-adjusting `rollout_fragment_length` to 4.\n",
      "2022-08-17 06:54:43,041\tINFO ppo.py:414 -- In multi-agent mode, policies will be optimized sequentially by the multi-GPU optimizer. Consider setting simple_optimizer=True if this doesn't work for you.\n",
      "2022-08-17 06:54:43,041\tINFO trainer.py:903 -- Current log_level is WARN. For more information, set 'log_level': 'INFO' / 'DEBUG' or use the -v and -vv flags.\n",
      "c:\\Users\\Wegma\\.conda\\envs\\thesis\\lib\\site-packages\\alpyne\\client\\utils.py:124: UserWarning: Unzipping to temporary directory (C:\\Users\\Wegma\\AppData\\Local\\Temp\\alpyne_28799_wsb6545q)\n",
      "  warn(f\"Unzipping to temporary directory ({tmp_dir})\")\n",
      "2022-08-17 06:54:46,044\tWARNING env.py:42 -- Skipping env checking for this experiment\n",
      "2022-08-17 06:54:51,135\tWARNING util.py:65 -- Install gputil for GPU system monitoring.\n"
     ]
    }
   ],
   "source": [
    "config = ppo.DEFAULT_CONFIG.copy()\n",
    "config[\"num_gpus\"] = 1\n",
    "config[\"num_workers\"] = 0\n",
    "config[\"framework\"] = \"torch\"\n",
    "config[\"env\"] = \"matrix\"\n",
    "config[\"train_batch_size\"] = config[\"sgd_minibatch_size\"] = 4\n",
    "config[\"env_config\"] = dict(\n",
    "    max_seconds = 10*60, \n",
    "    fleetsize = 4, \n",
    "    max_fleetsize = 10,\n",
    "    config_args = dict(\n",
    "        withCollisions = True,\n",
    "        reward_target = 1, \n",
    "        reward_distance = 0.05,\n",
    "        reward_block = -0.5, \n",
    "        dispatchinginterval=120,\n",
    "        routinginterval = 2,\n",
    "        dispatcher_args=dict(distance=1)\n",
    "    )\n",
    ")\n",
    "config[\"multiagent\"]={\n",
    "    \"policies\":{ \"agv\": PolicySpec(), },\n",
    "    \"policy_mapping_fn\": lambda agent_id, episode, worker,**kwargs: \"agv\",    \n",
    "}\n",
    "trainer = ppo.PPOTrainer(config)"
   ]
  },
  {
   "cell_type": "code",
   "execution_count": 3,
   "metadata": {},
   "outputs": [],
   "source": [
    "e=trainer.workers.local_worker().env"
   ]
  },
  {
   "cell_type": "code",
   "execution_count": 5,
   "metadata": {},
   "outputs": [],
   "source": [
    "for i in range(10000):\n",
    "    result = trainer.train()"
   ]
  }
 ],
 "metadata": {
  "kernelspec": {
   "display_name": "Python 3.8.13 ('thesis')",
   "language": "python",
   "name": "python3"
  },
  "language_info": {
   "codemirror_mode": {
    "name": "ipython",
    "version": 3
   },
   "file_extension": ".py",
   "mimetype": "text/x-python",
   "name": "python",
   "nbconvert_exporter": "python",
   "pygments_lexer": "ipython3",
   "version": "3.8.13"
  },
  "orig_nbformat": 4,
  "vscode": {
   "interpreter": {
    "hash": "dc7f4105f9f5e395f215a7643dd52717d50b308583dcde27027fbaaaba0d8cea"
   }
  }
 },
 "nbformat": 4,
 "nbformat_minor": 2
}
