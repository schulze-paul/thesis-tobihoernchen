{
 "cells": [
  {
   "cell_type": "code",
   "execution_count": null,
   "metadata": {},
   "outputs": [],
   "source": [
    "import sys\n",
    "import time\n",
    "sys.path.append(\"../..\")\n",
    "from alpyne.client.alpyne_client import AlpyneClient\n",
    "from thesis.envs.minimatrix import MiniMatrix\n",
    "from stable_baselines3 import A2C\n",
    "from sb3_contrib import RecurrentPPO\n",
    "from stable_baselines3.common.utils import set_random_seed\n",
    "seed = 42\n",
    "set_random_seed(seed)"
   ]
  }
 ],
 "metadata": {
  "kernelspec": {
   "display_name": "Python 3.8.13 ('thesis_sb2')",
   "language": "python",
   "name": "python3"
  },
  "language_info": {
   "name": "python",
   "version": "3.6.13"
  },
  "orig_nbformat": 4,
  "vscode": {
   "interpreter": {
    "hash": "735b1f0dbb47a51604901f51131cb06be2ac09752fafee6362930391b146d727"
   }
  }
 },
 "nbformat": 4,
 "nbformat_minor": 2
}
