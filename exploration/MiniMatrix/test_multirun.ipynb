{
 "cells": [
  {
   "cell_type": "code",
   "execution_count": 1,
   "metadata": {},
   "outputs": [],
   "source": [
    "import sys\n",
    "import time\n",
    "import json\n",
    "from stable_baselines3 import PPO\n",
    "from stable_baselines3.common.utils import set_random_seed\n",
    "\n",
    "sys.path.append(\"../..\")\n",
    "from thesis.envs.minimatrix import MiniMatrix\n",
    "from thesis.callbacks.minimatrix import MiniMatrixCallback\n",
    "from thesis.policies.agv_routing_attention import AgvRoutingFE\n",
    "import numpy as np\n",
    "seed = 42\n",
    "set_random_seed(seed)"
   ]
  },
  {
   "cell_type": "code",
   "execution_count": 3,
   "metadata": {},
   "outputs": [
    {
     "name": "stderr",
     "output_type": "stream",
     "text": [
      "C:\\Users\\Wegma\\AppData\\Local\\Temp\\ipykernel_11280\\3221464123.py:5: UserWarning: Implicit dimension choice for softmax has been deprecated. Change the call to include dim=X as an argument.\n",
      "  output = m(input)\n"
     ]
    }
   ],
   "source": [
    "import torch\n",
    "import torch.nn as nn\n",
    "m = nn.Softmax()\n",
    "input = torch.randn(1,2)\n",
    "output = m(input)"
   ]
  },
  {
   "cell_type": "code",
   "execution_count": 4,
   "metadata": {},
   "outputs": [
    {
     "data": {
      "text/plain": [
       "tensor([[0.8917, 0.1083]])"
      ]
     },
     "execution_count": 4,
     "metadata": {},
     "output_type": "execute_result"
    }
   ],
   "source": [
    "output"
   ]
  },
  {
   "cell_type": "code",
   "execution_count": 2,
   "metadata": {},
   "outputs": [],
   "source": [
    "models_dir = \"../../models/MiniMatrix_Routing_Attn\"\n",
    "logdir = \"../../logs/MiniMatrix_Routing_Attn\"\n",
    "fleetsize = 4\n",
    "max_fleetsize = 10\n",
    "run_name = f\"PPO-{fleetsize}-{max_fleetsize}-{time.strftime('%d_%m-%H_%M_%S')}-{seed}\""
   ]
  },
  {
   "cell_type": "code",
   "execution_count": 3,
   "metadata": {},
   "outputs": [],
   "source": [
    "env_args = dict(\n",
    "        reward_target = 10, \n",
    "        reward_distance = 5,\n",
    "        # reward_block = -5, \n",
    "        dispatchinginterval=120,\n",
    "        routinginterval = 2,\n",
    "        withCollisions = False,\n",
    "        # blockTimeout = 5,\n",
    "        # routingOnNode = False,\n",
    "        # coordinates = False,\n",
    "        includeNodesInReach = True,\n",
    "    )"
   ]
  },
  {
   "cell_type": "code",
   "execution_count": 11,
   "metadata": {},
   "outputs": [
    {
     "name": "stderr",
     "output_type": "stream",
     "text": [
      "c:\\Users\\Wegma\\.conda\\envs\\thesis\\lib\\site-packages\\alpyne\\client\\utils.py:124: UserWarning: Unzipping to temporary directory (C:\\Users\\Wegma\\AppData\\Local\\Temp\\alpyne_75566_fx_34gf_)\n",
      "  warn(f\"Unzipping to temporary directory ({tmp_dir})\")\n"
     ]
    }
   ],
   "source": [
    "env = MiniMatrix(\n",
    "    \"../../envs/MiniMatrix.zip\", \n",
    "    max_seconds = 2*60, \n",
    "    fleetsize = fleetsize, \n",
    "    max_fleetsize=max_fleetsize, \n",
    "    config_args = env_args,\n",
    "    port=51149\n",
    ")"
   ]
  },
  {
   "cell_type": "code",
   "execution_count": 64,
   "metadata": {},
   "outputs": [
    {
     "data": {
      "text/plain": [
       "10.5"
      ]
     },
     "execution_count": 64,
     "metadata": {},
     "output_type": "execute_result"
    }
   ],
   "source": [
    "env.run.get_observation().rew"
   ]
  },
  {
   "cell_type": "code",
   "execution_count": 65,
   "metadata": {},
   "outputs": [
    {
     "data": {
      "text/plain": [
       "tensor([[1.0000, 0.4773, 0.8837, 0.5455, 0.8837, 0.5455, 0.8837, 0.0000],\n",
       "        [1.0000, 0.8182, 0.8837, 0.8182, 0.8837, 0.0000, 0.0000, 0.0000],\n",
       "        [0.0000, 0.0000, 0.0000, 0.0000, 0.0000, 0.0000, 0.0000, 0.0000],\n",
       "        [0.0000, 0.0000, 0.0000, 0.0000, 0.0000, 0.0000, 0.0000, 0.0000],\n",
       "        [0.0000, 0.0000, 0.0000, 0.0000, 0.0000, 0.0000, 0.0000, 0.0000],\n",
       "        [0.0000, 0.0000, 0.0000, 0.0000, 0.0000, 0.0000, 0.0000, 0.0000],\n",
       "        [0.0000, 0.0000, 0.0000, 0.0000, 0.0000, 0.0000, 0.0000, 0.0000],\n",
       "        [1.0000, 0.6023, 0.8837, 0.5455, 0.8837, 0.4773, 1.0000, 0.0000],\n",
       "        [0.0000, 0.0000, 0.0000, 0.0000, 0.0000, 0.0000, 0.0000, 0.0000],\n",
       "        [1.0000, 0.6023, 1.0000, 0.6023, 1.0000, 0.7909, 0.7209, 0.0000]])"
      ]
     },
     "execution_count": 65,
     "metadata": {},
     "output_type": "execute_result"
    }
   ],
   "source": [
    "obs = env._convert_from_observation(env.run.get_observation()).reshape(10,10)\n",
    "obs[:,:8]"
   ]
  },
  {
   "cell_type": "code",
   "execution_count": 66,
   "metadata": {},
   "outputs": [
    {
     "data": {
      "text/plain": [
       "[3, 2, 0, 0, 0, 0, 0, 1, 0, 2]"
      ]
     },
     "execution_count": 66,
     "metadata": {},
     "output_type": "execute_result"
    }
   ],
   "source": [
    "dx = obs[:,1] - obs[:,5]\n",
    "dy = obs[:,2] - obs[:,6]\n",
    "def getAction(dx, dy):\n",
    "    if abs(dx) > abs(dy):\n",
    "        if dx > 0:\n",
    "            return 1\n",
    "        if dx < 0:\n",
    "            return 3\n",
    "    else:\n",
    "        if dy > 0:\n",
    "            return 2\n",
    "        if dy < 0:\n",
    "            return 4\n",
    "    return 0\n",
    "actions = [getAction(x,y) for x,y in zip(dx, dy)]\n",
    "env.run.take_action(env._convert_to_action(actions))\n",
    "actions"
   ]
  }
 ],
 "metadata": {
  "kernelspec": {
   "display_name": "Python 3.8.13 ('thesis')",
   "language": "python",
   "name": "python3"
  },
  "language_info": {
   "codemirror_mode": {
    "name": "ipython",
    "version": 3
   },
   "file_extension": ".py",
   "mimetype": "text/x-python",
   "name": "python",
   "nbconvert_exporter": "python",
   "pygments_lexer": "ipython3",
   "version": "3.8.13"
  },
  "orig_nbformat": 4,
  "vscode": {
   "interpreter": {
    "hash": "dc7f4105f9f5e395f215a7643dd52717d50b308583dcde27027fbaaaba0d8cea"
   }
  }
 },
 "nbformat": 4,
 "nbformat_minor": 2
}
